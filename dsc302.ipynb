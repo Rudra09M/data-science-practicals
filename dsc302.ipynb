{
 "cells": [
  {
   "cell_type": "code",
   "execution_count": 1,
   "id": "11958728-4c71-4d81-ab92-e143f44342a3",
   "metadata": {},
   "outputs": [],
   "source": [
    "import numpy as np\n"
   ]
  },
  {
   "cell_type": "code",
   "execution_count": 2,
   "id": "e52b7f30-ee55-4c10-9172-f43d2047e0fd",
   "metadata": {},
   "outputs": [
    {
     "data": {
      "text/plain": [
       "2401"
      ]
     },
     "execution_count": 2,
     "metadata": {},
     "output_type": "execute_result"
    }
   ],
   "source": [
    "7**4"
   ]
  },
  {
   "cell_type": "code",
   "execution_count": 3,
   "id": "e9407347-1665-48fd-b9a5-009ff95a83b3",
   "metadata": {},
   "outputs": [
    {
     "data": {
      "text/plain": [
       "1"
      ]
     },
     "execution_count": 3,
     "metadata": {},
     "output_type": "execute_result"
    }
   ],
   "source": [
    "7//4"
   ]
  },
  {
   "cell_type": "code",
   "execution_count": 4,
   "id": "12b09fed-a329-45b2-a47f-d9940a29fc3d",
   "metadata": {},
   "outputs": [
    {
     "name": "stdout",
     "output_type": "stream",
     "text": [
      "['hey', ' there', ' rudra']\n"
     ]
    }
   ],
   "source": [
    "x = \"hey, there, rudra\"\n",
    "print(x.split(\",\"))"
   ]
  },
  {
   "cell_type": "code",
   "execution_count": 6,
   "id": "f0bfebef-4129-45ed-af85-58ad08d74483",
   "metadata": {},
   "outputs": [
    {
     "name": "stdout",
     "output_type": "stream",
     "text": [
      "the diameter of Earth is 12742 kilometer\n"
     ]
    }
   ],
   "source": [
    "planet = \"Earth\"\n",
    "diameter = 12742\n",
    "print(\"the diameter of {} is {} kilometer\".format(planet,diameter))"
   ]
  },
  {
   "cell_type": "code",
   "execution_count": 9,
   "id": "ac329e09-df5a-40b8-a504-4bb94138a796",
   "metadata": {},
   "outputs": [
    {
     "name": "stdout",
     "output_type": "stream",
     "text": [
      "hello\n"
     ]
    }
   ],
   "source": [
    "lst = [1,2,[3,4],[5,[100,200,[\"hello\"]],23,11],1,7]\n",
    "print(lst[3][1][2][0])"
   ]
  },
  {
   "cell_type": "code",
   "execution_count": 14,
   "id": "9077fc10-a451-4830-ad65-d222c3b9ee60",
   "metadata": {},
   "outputs": [
    {
     "name": "stdout",
     "output_type": "stream",
     "text": [
      "hello\n"
     ]
    }
   ],
   "source": [
    "d={'k1':[1,2,3,{'tricky':['oh','man','inception',{'target':[1,2,3,'hello']}]}]}\n",
    "print(d['k1'][3]['tricky'][3]['target'][3])"
   ]
  },
  {
   "cell_type": "code",
   "execution_count": 15,
   "id": "0d69ba55-bd40-4145-b5bd-4efa811fccf4",
   "metadata": {},
   "outputs": [
    {
     "data": {
      "text/plain": [
       "'list allows duplicate values tuple does not'"
      ]
     },
     "execution_count": 15,
     "metadata": {},
     "output_type": "execute_result"
    }
   ],
   "source": [
    "\"list allows duplicate values tuple does not\""
   ]
  },
  {
   "cell_type": "code",
   "execution_count": 30,
   "id": "cc36f990-f965-4584-9dc6-068aadc90f0a",
   "metadata": {},
   "outputs": [
    {
     "name": "stdout",
     "output_type": "stream",
     "text": [
      "gmail.com\n"
     ]
    }
   ],
   "source": [
    "email=\"rudramakwana3117@gmail.com\" \n",
    "\n",
    "print(email.split('@')[1])\n"
   ]
  },
  {
   "cell_type": "code",
   "execution_count": 37,
   "id": "a7eb60a6-8308-4845-b489-94adc6febd55",
   "metadata": {},
   "outputs": [
    {
     "name": "stdout",
     "output_type": "stream",
     "text": [
      "True\n"
     ]
    }
   ],
   "source": [
    "a = \"is there a dog here\"\n",
    "print(\"dog\" in a)"
   ]
  },
  {
   "cell_type": "code",
   "execution_count": null,
   "id": "6a094518-de61-4e85-a918-29ae161253d5",
   "metadata": {},
   "outputs": [],
   "source": []
  },
  {
   "cell_type": "code",
   "execution_count": null,
   "id": "ec8f0081-c982-46a8-bfa2-45c030628051",
   "metadata": {},
   "outputs": [],
   "source": []
  }
 ],
 "metadata": {
  "kernelspec": {
   "display_name": "Python 3 (ipykernel)",
   "language": "python",
   "name": "python3"
  },
  "language_info": {
   "codemirror_mode": {
    "name": "ipython",
    "version": 3
   },
   "file_extension": ".py",
   "mimetype": "text/x-python",
   "name": "python",
   "nbconvert_exporter": "python",
   "pygments_lexer": "ipython3",
   "version": "3.12.2"
  }
 },
 "nbformat": 4,
 "nbformat_minor": 5
}
