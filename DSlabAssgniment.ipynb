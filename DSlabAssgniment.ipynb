{
 "cells": [
  {
   "cell_type": "code",
   "execution_count": 1,
   "id": "50df26e1-2856-4498-bd55-e15fa0043423",
   "metadata": {},
   "outputs": [
    {
     "name": "stdout",
     "output_type": "stream",
     "text": [
      "a) Online sales for Q1 2022: 1400\n",
      "b) In-store expenses in Q3 2021: 450\n",
      "c) Total sales for Q4 2021: 1970\n",
      "d) Expenses for online channel in 2022: 2800\n",
      "e) Sales data for Q2 2021:\n",
      " Online      1200\n",
      "In-Store     900\n",
      "Name: Q2 2021, dtype: int64\n",
      "f) Maximum expense recorded in 2022: 750\n"
     ]
    }
   ],
   "source": [
    "import pandas as pd\n",
    "\n",
    "data = {\n",
    "    ('Sales', 'Online'): [1000, 1200, 1300, 1100, 1400, 1500, 1600, 1700],\n",
    "    ('Sales', 'In-Store'): [800, 900, 950, 870, 930, 920, 980, 970],\n",
    "    ('Expenses', 'Online'): [500, 600, 700, 550, 650, 680, 720, 750],\n",
    "    ('Expenses', 'In-Store'): [300, 400, 450, 370, 430, 420, 480, 470]\n",
    "}\n",
    "\n",
    "quarters = ['Q1 2021', 'Q2 2021', 'Q3 2021', 'Q4 2021', 'Q1 2022', 'Q2 2022', 'Q3 2022', 'Q4 2022']\n",
    "financial_data = pd.DataFrame(data, index=quarters)\n",
    "\n",
    "# a) Online sales for Q1 2022\n",
    "online_s_q1_2022 = financial_data.loc['Q1 2022', ('Sales', 'Online')]\n",
    "\n",
    "# b) In-store expenses in Q3 2021\n",
    "instore_exp_q3_2021 = financial_data.loc['Q3 2021', ('Expenses', 'In-Store')]\n",
    "\n",
    "# c) Total sales for Q4 2021\n",
    "total_s_q4_2021 = financial_data.loc['Q4 2021', ('Sales', 'Online')] + financial_data.loc['Q4 2021', ('Sales', 'In-Store')]\n",
    "\n",
    "# d) Expenses for online channel in 2022\n",
    "online_exp_2022 = financial_data.loc[['Q1 2022', 'Q2 2022', 'Q3 2022', 'Q4 2022'], ('Expenses', 'Online')].sum()\n",
    "\n",
    "# e) Sales data for Q2 2021\n",
    "sales_q2_2021 = financial_data.loc['Q2 2021', 'Sales']\n",
    "\n",
    "# f) Maximum expense recorded in 2022\n",
    "max_expense_2022 = financial_data.loc[['Q1 2022', 'Q2 2022', 'Q3 2022', 'Q4 2022'], 'Expenses'].max().max()\n",
    "\n",
    "print(\"a) Online sales for Q1 2022:\", online_s_q1_2022)\n",
    "print(\"b) In-store expenses in Q3 2021:\", instore_exp_q3_2021)\n",
    "print(\"c) Total sales for Q4 2021:\", total_s_q4_2021)\n",
    "print(\"d) Expenses for online channel in 2022:\", online_exp_2022)\n",
    "print(\"e) Sales data for Q2 2021:\\n\", sales_q2_2021)\n",
    "print(\"f) Maximum expense recorded in 2022:\", max_expense_2022)\n"
   ]
  },
  {
   "cell_type": "code",
   "execution_count": 2,
   "id": "d6649eff-4113-41eb-a484-9d8b206ebcdb",
   "metadata": {},
   "outputs": [
    {
     "name": "stdout",
     "output_type": "stream",
     "text": [
      "Store    Product         \n",
      "Store A  Product 1  Sales    100\n",
      "Store B  Product 2  Sales    200\n",
      "Store C  Product 3  Sales    150\n",
      "dtype: int64\n"
     ]
    }
   ],
   "source": [
    "data = {\n",
    "    'Store': ['Store A', 'Store B', 'Store C'],\n",
    "    'Product': ['Product 1', 'Product 2', 'Product 3'],\n",
    "    'Sales': [100, 200, 150]\n",
    "}\n",
    "df = pd.DataFrame(data)\n",
    "\n",
    "stacked_df = df.set_index(['Store', 'Product']).stack()\n",
    "print(stacked_df)\n"
   ]
  },
  {
   "cell_type": "code",
   "execution_count": 3,
   "id": "fb9ab1c5-caef-49c4-836d-560372f82835",
   "metadata": {},
   "outputs": [
    {
     "name": "stdout",
     "output_type": "stream",
     "text": [
      "                   Sales\n",
      "Store   Product         \n",
      "Store A Product 1    100\n",
      "Store B Product 2    200\n",
      "Store C Product 3    150\n"
     ]
    }
   ],
   "source": [
    "unstacked_df = stacked_df.unstack()\n",
    "print(unstacked_df)"
   ]
  },
  {
   "cell_type": "code",
   "execution_count": 6,
   "id": "093f867d-ace6-4347-bc5c-7b2a68de44f8",
   "metadata": {},
   "outputs": [
    {
     "name": "stdout",
     "output_type": "stream",
     "text": [
      "                     Employee\n",
      "Department Role              \n",
      "Sales      Manager      Rudra\n",
      "           Executive   Kishan\n",
      "HR         Manager    Samarth\n",
      "           Executive      Sam\n"
     ]
    }
   ],
   "source": [
    "index = pd.MultiIndex.from_tuples([\n",
    "    ('Sales', 'Manager'), \n",
    "    ('Sales', 'Executive'), \n",
    "    ('HR', 'Manager'), \n",
    "    ('HR', 'Executive')\n",
    "], names=['Department', 'Role'])\n",
    "\n",
    "df = pd.DataFrame({'Employee': ['Rudra', 'Kishan', 'Samarth', 'Sam']}, index=index)\n",
    "print(df)"
   ]
  },
  {
   "cell_type": "code",
   "execution_count": 7,
   "id": "f9e15345-a2f2-402a-a60e-87b9cb2d28c2",
   "metadata": {},
   "outputs": [
    {
     "name": "stdout",
     "output_type": "stream",
     "text": [
      "          Employee\n",
      "Role              \n",
      "Manager      Rudra\n",
      "Executive   Kishan\n"
     ]
    }
   ],
   "source": [
    "sales_employees = df.xs('Sales')\n",
    "print(sales_employees)\n"
   ]
  },
  {
   "cell_type": "code",
   "execution_count": 8,
   "id": "36e65828-6557-49e0-910f-bcb1d9baa0e6",
   "metadata": {},
   "outputs": [
    {
     "name": "stdout",
     "output_type": "stream",
     "text": [
      "      Student  Subject  Grade\n",
      "2       rudra     Math     85\n",
      "0         sam     Math     88\n",
      "3  Davidputra  Science     91\n",
      "1        kish  Science     92\n"
     ]
    }
   ],
   "source": [
    "grades_data = {\n",
    "    'Student': ['sam', 'kish', 'rudra', 'Davidputra'],\n",
    "    'Subject': ['Math', 'Science', 'Math', 'Science'],\n",
    "    'Grade': [88, 92, 85, 91]\n",
    "}\n",
    "grades_df = pd.DataFrame(grades_data)\n",
    "\n",
    "sorted_grades_df = grades_df.sort_values(by=['Subject', 'Grade'])\n",
    "print(sorted_grades_df)"
   ]
  },
  {
   "cell_type": "code",
   "execution_count": 9,
   "id": "14cb3f35-19e5-41b6-8e28-2b4b3b4cedb1",
   "metadata": {},
   "outputs": [
    {
     "name": "stdout",
     "output_type": "stream",
     "text": [
      "      Student  Subject  Grade\n",
      "0       rudra     Math     85\n",
      "1         sam     Math     88\n",
      "2  Davidputra  Science     91\n",
      "3        kish  Science     92\n"
     ]
    }
   ],
   "source": [
    "reset_grades_df = sorted_grades_df.reset_index(drop=True)\n",
    "print(reset_grades_df)"
   ]
  },
  {
   "cell_type": "code",
   "execution_count": 10,
   "id": "eaa45eec-19bd-4e8e-8dba-42fdf303bcd7",
   "metadata": {},
   "outputs": [
    {
     "name": "stdout",
     "output_type": "stream",
     "text": [
      "            Temperature\n",
      "Date                   \n",
      "2023-01-01           22\n",
      "2023-01-02           24\n",
      "2023-01-03           21\n"
     ]
    }
   ],
   "source": [
    "weather_data = {\n",
    "    'Date': ['2023-01-01', '2023-01-02', '2023-01-03'],\n",
    "    'Temperature': [22, 24, 21]\n",
    "}\n",
    "weather_df = pd.DataFrame(weather_data)\n",
    "\n",
    "weather_df['Date'] = pd.to_datetime(weather_df['Date'])\n",
    "weather_df.set_index('Date', inplace=True)\n",
    "print(weather_df)\n"
   ]
  },
  {
   "cell_type": "code",
   "execution_count": 11,
   "id": "efc0d150-3e0c-4f23-aa46-9fb655023917",
   "metadata": {},
   "outputs": [
    {
     "name": "stdout",
     "output_type": "stream",
     "text": [
      "     Store    Product  Sales\n",
      "0  Store A  Product 1    100\n",
      "1  Store A  Product 2    150\n",
      "2  Store B  Product 1    200\n"
     ]
    }
   ],
   "source": [
    "multi_index_data = pd.DataFrame(\n",
    "    {'Sales': [100, 150, 200]},\n",
    "    index=pd.MultiIndex.from_tuples(\n",
    "        [('Store A', 'Product 1'), ('Store A', 'Product 2'), ('Store B', 'Product 1')],\n",
    "        names=['Store', 'Product']\n",
    "    )\n",
    ")\n",
    "\n",
    "flattened_df = multi_index_data.reset_index()\n",
    "print(flattened_df)\n"
   ]
  },
  {
   "cell_type": "code",
   "execution_count": 12,
   "id": "81422506-9c54-463a-9fec-21633c9642a4",
   "metadata": {},
   "outputs": [
    {
     "name": "stdout",
     "output_type": "stream",
     "text": [
      "             Price\n",
      "Category          \n",
      "Clothing      25.0\n",
      "Electronics   12.5\n"
     ]
    }
   ],
   "source": [
    "category_product_data = pd.DataFrame(\n",
    "    {'Price': [10, 15, 20, 30]},\n",
    "    index=pd.MultiIndex.from_tuples(\n",
    "        [('Electronics', 'Phone'), ('Electronics', 'Laptop'), ('Clothing', 'Shirt'), ('Clothing', 'Pants')],\n",
    "        names=['Category', 'Product']\n",
    "    )\n",
    ")\n",
    "\n",
    "average_by_category = category_product_data.groupby(level='Category').mean()\n",
    "print(average_by_category)\n"
   ]
  },
  {
   "cell_type": "code",
   "execution_count": null,
   "id": "8edf7d29-2f86-407b-ab52-bac1a9cd83d2",
   "metadata": {},
   "outputs": [],
   "source": []
  }
 ],
 "metadata": {
  "kernelspec": {
   "display_name": "Python 3 (ipykernel)",
   "language": "python",
   "name": "python3"
  },
  "language_info": {
   "codemirror_mode": {
    "name": "ipython",
    "version": 3
   },
   "file_extension": ".py",
   "mimetype": "text/x-python",
   "name": "python",
   "nbconvert_exporter": "python",
   "pygments_lexer": "ipython3",
   "version": "3.12.4"
  }
 },
 "nbformat": 4,
 "nbformat_minor": 5
}
